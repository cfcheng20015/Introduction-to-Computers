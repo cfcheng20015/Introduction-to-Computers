{
  "nbformat": 4,
  "nbformat_minor": 0,
  "metadata": {
    "colab": {
      "name": "0509.ipynb",
      "provenance": [],
      "authorship_tag": "ABX9TyObg3vTZgptGJmaW4cKIC8N",
      "include_colab_link": true
    },
    "kernelspec": {
      "name": "python3",
      "display_name": "Python 3"
    },
    "language_info": {
      "name": "python"
    }
  },
  "cells": [
    {
      "cell_type": "markdown",
      "metadata": {
        "id": "view-in-github",
        "colab_type": "text"
      },
      "source": [
        "<a href=\"https://colab.research.google.com/github/cfcheng20015/Introduction-to-Computers/blob/main/0509.ipynb\" target=\"_parent\"><img src=\"https://colab.research.google.com/assets/colab-badge.svg\" alt=\"Open In Colab\"/></a>"
      ]
    },
    {
      "cell_type": "code",
      "execution_count": 3,
      "metadata": {
        "colab": {
          "base_uri": "https://localhost:8080/"
        },
        "id": "wN2TfFEk7lkw",
        "outputId": "d9f1cf8f-d978-42a4-96e9-6ada81cc7f70"
      },
      "outputs": [
        {
          "output_type": "stream",
          "name": "stdout",
          "text": [
            "請輸入你的體溫36\n",
            "體溫正常!\n"
          ]
        }
      ],
      "source": [
        "temp=float(input(\"請輸入你的體溫\"))\n",
        "if temp>=37.5:\n",
        "  print(\"體溫過高!\")\n",
        "elif temp>=37 and temp<37.4:\n",
        "  print(\"體溫略高!\")\n",
        "elif temp>=34 and temp<36.9:\n",
        "  print(\"體溫正常!\")\n",
        "else:\n",
        "  print(\"體溫異常，請重新量測!\")"
      ]
    },
    {
      "cell_type": "code",
      "source": [
        "score=(input(\"請輸入你的成績\"))\n",
        "if (int(score)>=90):\n",
        "   print(\"A\")\n",
        "elif (int(score)>=80):\n",
        "  print(\"B\")\n",
        "elif (int(score)>=70):\n",
        "  print(\"C\")\n",
        "elif (int(score)>=60):\n",
        "  print(\"D\")\n",
        "else:\n",
        "  print(\"E\")"
      ],
      "metadata": {
        "colab": {
          "base_uri": "https://localhost:8080/"
        },
        "id": "MYqUd0u__zMP",
        "outputId": "4fb3f62f-8e6a-4bde-c50f-738cd74859d1"
      },
      "execution_count": 5,
      "outputs": [
        {
          "output_type": "stream",
          "name": "stdout",
          "text": [
            "請輸入你的成績50\n",
            "E\n"
          ]
        }
      ]
    },
    {
      "cell_type": "code",
      "source": [
        "money=int(input(\"請輸入購物金額:\"))\n",
        "if(money>=10000):\n",
        "  if(money>=100000):\n",
        "    print(\"八折\",money*0.8,end=\"元\\n\")\n",
        "  elif(money>=50000):\n",
        "    print(\"八五折\",money*0.85,end=\"元\\n\")\n",
        "  elif(money>=30000):\n",
        "    print(\"九折\",money*0.9,end=\"元\\n\")\n",
        "  else:\n",
        "    print(\"九五折\",money*0.95,end=\"元\\n\")\n",
        "else:\n",
        "  print(\"沒打折\",money,end=\"元\\n\")"
      ],
      "metadata": {
        "colab": {
          "base_uri": "https://localhost:8080/"
        },
        "id": "8n3xlzbBE5X_",
        "outputId": "a90ed923-0771-442d-e5b1-c43995ae0637"
      },
      "execution_count": 29,
      "outputs": [
        {
          "output_type": "stream",
          "name": "stdout",
          "text": [
            "請輸入購物金額:1200000\n",
            "八折 960000.0元\n"
          ]
        }
      ]
    },
    {
      "cell_type": "code",
      "source": [
        "month = int(input(\"請輸入月份：\"))\n",
        "if month >= 3 and month <= 5:\n",
        "    print(\"你輸入的{}月份是春天\".format(month))\n",
        "elif month >= 6 and month <= 8:\n",
        "    print(\"你輸入的{}月份是夏天\".format(month))\n",
        "elif month >= 9 and month <= 11:\n",
        "    print(\"你輸入的{}月份是秋天\".format(month))\n",
        "elif month ==12 or month == 1 or month == 2 :\n",
        "    print(\"你輸入的{}月份是冬天\".format(month))\n",
        "else:\n",
        "    print(\"月份輸入不規範,請重新輸入！\")"
      ],
      "metadata": {
        "colab": {
          "base_uri": "https://localhost:8080/"
        },
        "id": "RafnatydOrCi",
        "outputId": "1610c60b-3074-4515-fcd2-3bd57fab17eb"
      },
      "execution_count": 100,
      "outputs": [
        {
          "output_type": "stream",
          "name": "stdout",
          "text": [
            "請輸入月份：12\n",
            "你輸入的12月份是冬天\n"
          ]
        }
      ]
    },
    {
      "cell_type": "code",
      "source": [
        "money=int(input(\"請輸入今年收入淨額:\"))\n",
        "if(money>=2000000):\n",
        "  if(money>=2000000):\n",
        "    print(\"付稅金額\",money*0.3,end=\"元\\n\")\n",
        "  elif(money>=1000000):\n",
        "    print(\"付稅金額\",money*0.21,end=\"元\\n\")\n",
        "  elif(money>=600000):\n",
        "    print(\"付稅金額\",money*0.13,end=\"元\\n\")\n",
        "  elif(money>=300000):\n",
        "    print(\"付稅金額\",money*0.06,end=\"元\\n\")\n",
        "else:\n",
        "  print(\"付稅金額\",money*0,end=\"元\\n\")"
      ],
      "metadata": {
        "colab": {
          "base_uri": "https://localhost:8080/"
        },
        "id": "I8k7qWfTfU7T",
        "outputId": "0bb19f81-8dac-421b-a36d-463018b05504"
      },
      "execution_count": 104,
      "outputs": [
        {
          "output_type": "stream",
          "name": "stdout",
          "text": [
            "請輸入今年收入淨額:2000000\n",
            "付稅金額 600000.0元\n"
          ]
        }
      ]
    }
  ]
}